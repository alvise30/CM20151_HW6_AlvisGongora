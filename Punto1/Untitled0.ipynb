{
 "metadata": {
  "name": "",
  "signature": "sha256:55b01f573c5fa22e45d1728e98971a7bc8d65dec669f0e83fd875b2f46eb6eab"
 },
 "nbformat": 3,
 "nbformat_minor": 0,
 "worksheets": [
  {
   "cells": [
    {
     "cell_type": "code",
     "collapsed": false,
     "input": [
      "%pylab inline"
     ],
     "language": "python",
     "metadata": {},
     "outputs": [
      {
       "output_type": "stream",
       "stream": "stdout",
       "text": [
        "Populating the interactive namespace from numpy and matplotlib\n"
       ]
      }
     ],
     "prompt_number": 1
    },
    {
     "cell_type": "raw",
     "metadata": {},
     "source": [
      "import numpy as np\n",
      "import mayavi.mlab as mlab\n",
      "import moviepy.editor as mpy\n",
      "\n",
      "duration= 2 # duration of the animation in seconds (it will loop)\n",
      "\n",
      "# MAKE A FIGURE WITH MAYAVI\n",
      "\n",
      "fig_myv = mlab.figure(size=(220,220), bgcolor=(1,1,1))\n",
      "X, Y = np.linspace(-2,2,200), np.linspace(-2,2,200)\n",
      "XX, YY = np.meshgrid(X,Y)\n",
      "ZZ = lambda d: np.sinc(XX**2+YY**2)+np.sin(XX+d)\n",
      "\n",
      "# ANIMATE THE FIGURE WITH MOVIEPY, WRITE AN ANIMATED GIF\n",
      "\n",
      "def make_frame(t):\n",
      "    mlab.clf() # clear the figure (to reset the colors)\n",
      "    mlab.mesh(YY,XX,ZZ(2*np.pi*t/duration), figure=fig_myv)\n",
      "    return mlab.screenshot(antialiased=True)\n",
      "\n",
      "animation = mpy.VideoClip(make_frame, duration=duration)\n",
      "animation.write_gif(\"sinc.gif\", fps=20)\n"
     ]
    },
    {
     "cell_type": "raw",
     "metadata": {},
     "source": [
      "from visual import *\n",
      "\n",
      "floor = box (pos=(0,0,0), length=4, height=0.5, width=4, color=color.blue)\n",
      "ball = sphere (pos=(0,4,0), radius=1, color=color.red)\n",
      "ball.velocity = vector(0,-1,0)\n",
      "dt = 0.01\n",
      "\n",
      "while 1:\n",
      "    rate (100)\n",
      "    ball.pos = ball.pos + ball.velocity*dt\n",
      "    if ball.y < ball.radius:\n",
      "        ball.velocity.y = abs(ball.velocity.y)\n",
      "    else:\n",
      "        ball.velocity.y = ball.velocity.y - 9.8*dt"
     ]
    },
    {
     "cell_type": "code",
     "collapsed": false,
     "input": [
      "#posiciones\n",
      "r = ones([4,10,3])\n",
      "#Masas\n",
      "m = ones([4])"
     ],
     "language": "python",
     "metadata": {},
     "outputs": [],
     "prompt_number": 2
    },
    {
     "cell_type": "code",
     "collapsed": false,
     "input": [
      "r[1][:][:]=0\n",
      "r[2][:][:]=2\n",
      "r[3][:][:]=3"
     ],
     "language": "python",
     "metadata": {},
     "outputs": [],
     "prompt_number": 3
    },
    {
     "cell_type": "code",
     "collapsed": false,
     "input": [
      "#funcion para calcular la normal\n",
      "def norma(r,t,num1,num2):\n",
      "    normasq = 0\n",
      "    for i in range(3):\n",
      "        normasq += (r[num1][t][i]-r[num2][t][i])**2\n",
      "    norma = sqrt(normasq)\n",
      "    return norma"
     ],
     "language": "python",
     "metadata": {},
     "outputs": [],
     "prompt_number": 4
    },
    {
     "cell_type": "code",
     "collapsed": false,
     "input": [
      "#fuerza que siente la tierra r[0][:][:]\n",
      "(m[1]*(r[0][0][:]-r[1][0][:])/(norma(r,0,0,1)**3)) + (m[2]*(r[0][0][:]-r[2][0][:])/(norma(r,0,0,2)**3)) + (m[3]*(r[0][0][:]-r[3][0][:])/(norma(r,0,0,3)**3))"
     ],
     "language": "python",
     "metadata": {},
     "outputs": [
      {
       "metadata": {},
       "output_type": "pyout",
       "prompt_number": 5,
       "text": [
        "array([-0.04811252, -0.04811252, -0.04811252])"
       ]
      }
     ],
     "prompt_number": 5
    },
    {
     "cell_type": "code",
     "collapsed": false,
     "input": [
      "def acel(r,t,num1):\n",
      "    acel = zeros(3)    \n",
      "    for i in range(4):\n",
      "        if i != num1:\n",
      "            acel += m[i]*(r[num1][t][:]-r[i][t][:])/(norma(r,t,num1,i)**3)\n",
      "    return acel"
     ],
     "language": "python",
     "metadata": {},
     "outputs": [],
     "prompt_number": 6
    },
    {
     "cell_type": "code",
     "collapsed": false,
     "input": [
      "for i in range(4):\n",
      "    print acel(r,0,i)"
     ],
     "language": "python",
     "metadata": {},
     "outputs": [
      {
       "output_type": "stream",
       "stream": "stdout",
       "text": [
        "[-0.04811252 -0.04811252 -0.04811252]\n",
        "[-0.26194596 -0.26194596 -0.26194596]\n",
        "[ 0.04811252  0.04811252  0.04811252]\n",
        "[ 0.26194596  0.26194596  0.26194596]\n"
       ]
      }
     ],
     "prompt_number": 7
    },
    {
     "cell_type": "code",
     "collapsed": false,
     "input": [],
     "language": "python",
     "metadata": {},
     "outputs": [],
     "prompt_number": 7
    }
   ],
   "metadata": {}
  }
 ]
}