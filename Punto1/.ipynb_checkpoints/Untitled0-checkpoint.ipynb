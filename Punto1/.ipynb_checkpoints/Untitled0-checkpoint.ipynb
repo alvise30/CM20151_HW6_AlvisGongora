{
 "metadata": {
  "name": "",
  "signature": "sha256:fe3eb0d4bc4a8c3a07aefbaf8e6e4764f60d8685d49e0fb0bbe087935064d562"
 },
 "nbformat": 3,
 "nbformat_minor": 0,
 "worksheets": [
  {
   "cells": [
    {
     "cell_type": "code",
     "collapsed": false,
     "input": [
      "%pylab inline"
     ],
     "language": "python",
     "metadata": {},
     "outputs": [
      {
       "output_type": "stream",
       "stream": "stdout",
       "text": [
        "Populating the interactive namespace from numpy and matplotlib\n"
       ]
      }
     ],
     "prompt_number": 1
    },
    {
     "cell_type": "raw",
     "metadata": {},
     "source": [
      "import numpy as np\n",
      "import mayavi.mlab as mlab\n",
      "import moviepy.editor as mpy\n",
      "\n",
      "duration= 2 # duration of the animation in seconds (it will loop)\n",
      "\n",
      "# MAKE A FIGURE WITH MAYAVI\n",
      "\n",
      "fig_myv = mlab.figure(size=(220,220), bgcolor=(1,1,1))\n",
      "X, Y = np.linspace(-2,2,200), np.linspace(-2,2,200)\n",
      "XX, YY = np.meshgrid(X,Y)\n",
      "ZZ = lambda d: np.sinc(XX**2+YY**2)+np.sin(XX+d)\n",
      "\n",
      "# ANIMATE THE FIGURE WITH MOVIEPY, WRITE AN ANIMATED GIF\n",
      "\n",
      "def make_frame(t):\n",
      "    mlab.clf() # clear the figure (to reset the colors)\n",
      "    mlab.mesh(YY,XX,ZZ(2*np.pi*t/duration), figure=fig_myv)\n",
      "    return mlab.screenshot(antialiased=True)\n",
      "\n",
      "animation = mpy.VideoClip(make_frame, duration=duration)\n",
      "animation.write_gif(\"sinc.gif\", fps=20)\n"
     ]
    },
    {
     "cell_type": "raw",
     "metadata": {},
     "source": [
      "from visual import *\n",
      "\n",
      "floor = box (pos=(0,0,0), length=4, height=0.5, width=4, color=color.blue)\n",
      "ball = sphere (pos=(0,4,0), radius=1, color=color.red)\n",
      "ball.velocity = vector(0,-1,0)\n",
      "dt = 0.01\n",
      "\n",
      "while 1:\n",
      "    rate (100)\n",
      "    ball.pos = ball.pos + ball.velocity*dt\n",
      "    if ball.y < ball.radius:\n",
      "        ball.velocity.y = abs(ball.velocity.y)\n",
      "    else:\n",
      "        ball.velocity.y = ball.velocity.y - 9.8*dt"
     ]
    },
    {
     "cell_type": "code",
     "collapsed": false,
     "input": [
      "r = zeros([4,10,3])"
     ],
     "language": "python",
     "metadata": {},
     "outputs": [],
     "prompt_number": 13
    },
    {
     "cell_type": "code",
     "collapsed": false,
     "input": [],
     "language": "python",
     "metadata": {},
     "outputs": [],
     "prompt_number": 26
    },
    {
     "cell_type": "code",
     "collapsed": false,
     "input": [],
     "language": "python",
     "metadata": {},
     "outputs": [],
     "prompt_number": 26
    },
    {
     "cell_type": "raw",
     "metadata": {},
     "source": []
    }
   ],
   "metadata": {}
  }
 ]
}