{
 "metadata": {
  "name": "",
  "signature": "sha256:0030b6379fab7b6babff1026ce37d161915baee80cd192acd219401d6de56c2e"
 },
 "nbformat": 3,
 "nbformat_minor": 0,
 "worksheets": [
  {
   "cells": [
    {
     "cell_type": "code",
     "collapsed": false,
     "input": [
      "import numpy as np\n"
     ],
     "language": "python",
     "metadata": {},
     "outputs": [],
     "prompt_number": 6
    },
    {
     "cell_type": "code",
     "collapsed": false,
     "input": [
      "R = 1\n",
      "L = 30\n",
      "Tw = 100\n",
      "Ko = 10\n",
      "E = 10\n"
     ],
     "language": "python",
     "metadata": {},
     "outputs": [],
     "prompt_number": 7
    },
    {
     "cell_type": "code",
     "collapsed": false,
     "input": [
      "#funciones r y v segun enunciado\n",
      "def r(c,T):\n",
      "    return Ko*np.exp(-E/(R*T))*(c**2)\n",
      "\n",
      "def v(rr):\n",
      "    return Vmax*(1-(rr/R)**2)\n"
     ],
     "language": "python",
     "metadata": {},
     "outputs": [],
     "prompt_number": 8
    },
    {
     "cell_type": "code",
     "collapsed": false,
     "input": [
      "Po = 1000\n",
      "#arreglos y sus deltas corrspondientes\n",
      "z = np.linspace(0,L,Po)\n",
      "deltz = z[1]-z[0]\n",
      "r1 = np.linspace(0,R,Po)\n",
      "deltr1 = r1[1]-r1[0]\n",
      "delt_t = 0.0005\n"
     ],
     "language": "python",
     "metadata": {},
     "outputs": [],
     "prompt_number": 9
    },
    {
     "cell_type": "code",
     "collapsed": false,
     "input": [
      "#concentracion y temperaturas iniciales\n",
      "Co = np.ones(Po, Po)\n",
      "To = np.ones(Po, Po)\n"
     ],
     "language": "python",
     "metadata": {},
     "outputs": [],
     "prompt_number": 10
    },
    {
     "cell_type": "code",
     "collapsed": false,
     "input": [],
     "language": "python",
     "metadata": {},
     "outputs": []
    }
   ],
   "metadata": {}
  }
 ]
}